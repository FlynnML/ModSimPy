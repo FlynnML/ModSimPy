{
 "cells": [
  {
   "cell_type": "code",
   "execution_count": 1,
   "metadata": {
    "collapsed": true
   },
   "outputs": [],
   "source": [
    "%matplotlib inline\n",
    "\n",
    "from modsim import *"
   ]
  },
  {
   "cell_type": "code",
   "execution_count": null,
   "metadata": {
    "collapsed": true
   },
   "outputs": [],
   "source": [
    "init = State(temp=T1)\n",
    "\n",
    "coffee = System(init=init,\n",
    "                volume=300,\n",
    "                r=r_coffee,\n",
    "                T_env=T_env,\n",
    "                t0=0, \n",
    "                t_end=30,\n",
    "                dt=1)\n",
    "\n",
    "def update(state, system):\n",
    "    unpack(system)\n",
    "    T = state.temp\n",
    "    T += -r * (T - T_env) * dt\n",
    "\n",
    "    return State(temp=T)\n",
    "\n",
    "\n",
    "def run_simulation(system, update_func):\n",
    "    \"\"\"Runs a simulation of the system.\n",
    "    \n",
    "    Add a TimeFrame to the System: results\n",
    "    \n",
    "    system: System object\n",
    "    update_func: function that updates state\n",
    "    \"\"\"\n",
    "    unpack(system)\n",
    "    \n",
    "    frame = TimeFrame(columns=init.index)\n",
    "    frame.loc[t0] = init\n",
    "    ts = linrange(t0, t_end-dt, dt)\n",
    "    \n",
    "    for t in ts:\n",
    "        frame.loc[t+dt] = update_func(frame.loc[t], system)\n",
    "    \n",
    "    system.results = frame\n",
    "    \n",
    "def final_temp(system):\n",
    "    \"\"\"Final temperature.\n",
    "    \n",
    "    If system has no results, return initial temp.\n",
    "    \n",
    "    system: System object.\n",
    "    \n",
    "    returns: temperature (degC)\n",
    "    \"\"\"    \n",
    "    if hasattr(system, 'results'):\n",
    "        return system.results.temp[system.t_end]\n",
    "    else:\n",
    "        return system.init.temp\n",
    "    \n",
    "def make_system(T_init=90, r=0.01, volume=300, t_end=30):\n",
    "    \"\"\"Runs a simulation with the given parameters.\n",
    "\n",
    "    T_init: initial temperature in degC\n",
    "    r: heat transfer rate, in 1/min\n",
    "    volume: volume of liquid in mL\n",
    "    t_end: end time of simulation\n",
    "    \n",
    "    returns: System object\n",
    "    \"\"\"\n",
    "    init = State(temp=T_init)\n",
    "    \n",
    "    system = System(init=init,\n",
    "                    volume=volume,\n",
    "                    r=r,\n",
    "                    T_env=22, \n",
    "                    t0=0,\n",
    "                    t_end=t_end,\n",
    "                    dt=1)\n",
    "    return system\n",
    "\n"
   ]
  },
  {
   "cell_type": "code",
   "execution_count": null,
   "metadata": {
    "collapsed": true
   },
   "outputs": [],
   "source": []
  }
 ],
 "metadata": {
  "kernelspec": {
   "display_name": "Python 3",
   "language": "python",
   "name": "python3"
  },
  "language_info": {
   "codemirror_mode": {
    "name": "ipython",
    "version": 3
   },
   "file_extension": ".py",
   "mimetype": "text/x-python",
   "name": "python",
   "nbconvert_exporter": "python",
   "pygments_lexer": "ipython3",
   "version": "3.6.1"
  }
 },
 "nbformat": 4,
 "nbformat_minor": 2
}
