{
 "cells": [
  {
   "cell_type": "markdown",
   "metadata": {},
   "source": [
    "# Modeling and Simulation in Python\n",
    "\n",
    "Chapter 7: Thermal systems\n",
    "\n",
    "Copyright 2017 Allen Downey\n",
    "\n",
    "License: [Creative Commons Attribution 4.0 International](https://creativecommons.org/licenses/by/4.0)\n"
   ]
  },
  {
   "cell_type": "code",
   "execution_count": 18,
   "metadata": {
    "collapsed": true
   },
   "outputs": [],
   "source": [
    "# If you want the figures to appear in the notebook, \n",
    "# and you want to interact with them, use\n",
    "# %matplotlib notebook\n",
    "\n",
    "# If you want the figures to appear in the notebook, \n",
    "# and you don't want to interact with them, use\n",
    "# %matplotlib inline\n",
    "\n",
    "# If you want the figures to appear in separate windows, use\n",
    "# %matplotlib qt5\n",
    "\n",
    "# tempo switch from one to another, you have to select Kernel->Restart\n",
    "\n",
    "%matplotlib inline\n",
    "\n",
    "from modsim import *"
   ]
  },
  {
   "cell_type": "markdown",
   "metadata": {},
   "source": [
    "### The coffee cooling problem.\n",
    "\n",
    "I'll use a `State` object to store the initial temperature.\n"
   ]
  },
  {
   "cell_type": "code",
   "execution_count": 19,
   "metadata": {},
   "outputs": [
    {
     "data": {
      "text/html": [
       "<div>\n",
       "<style>\n",
       "    .dataframe thead tr:only-child th {\n",
       "        text-align: right;\n",
       "    }\n",
       "\n",
       "    .dataframe thead th {\n",
       "        text-align: left;\n",
       "    }\n",
       "\n",
       "    .dataframe tbody tr th {\n",
       "        vertical-align: top;\n",
       "    }\n",
       "</style>\n",
       "<table border=\"1\" class=\"dataframe\">\n",
       "  <thead>\n",
       "    <tr style=\"text-align: right;\">\n",
       "      <th></th>\n",
       "      <th>value</th>\n",
       "    </tr>\n",
       "  </thead>\n",
       "  <tbody>\n",
       "    <tr>\n",
       "      <th>temp</th>\n",
       "      <td>87</td>\n",
       "    </tr>\n",
       "  </tbody>\n",
       "</table>\n",
       "</div>"
      ],
      "text/plain": [
       "temp    87\n",
       "dtype: int64"
      ]
     },
     "execution_count": 19,
     "metadata": {},
     "output_type": "execute_result"
    }
   ],
   "source": [
    "T1 = 87\n",
    "init = State(temp=T1)\n",
    "init"
   ]
  },
  {
   "cell_type": "code",
   "execution_count": 20,
   "metadata": {},
   "outputs": [
    {
     "data": {
      "text/html": [
       "<div>\n",
       "<style>\n",
       "    .dataframe thead tr:only-child th {\n",
       "        text-align: right;\n",
       "    }\n",
       "\n",
       "    .dataframe thead th {\n",
       "        text-align: left;\n",
       "    }\n",
       "\n",
       "    .dataframe tbody tr th {\n",
       "        vertical-align: top;\n",
       "    }\n",
       "</style>\n",
       "<table border=\"1\" class=\"dataframe\">\n",
       "  <thead>\n",
       "    <tr style=\"text-align: right;\">\n",
       "      <th></th>\n",
       "      <th>value</th>\n",
       "    </tr>\n",
       "  </thead>\n",
       "  <tbody>\n",
       "    <tr>\n",
       "      <th>temp</th>\n",
       "      <td>87</td>\n",
       "    </tr>\n",
       "  </tbody>\n",
       "</table>\n",
       "</div>"
      ],
      "text/plain": [
       "temp    87\n",
       "dtype: int64"
      ]
     },
     "execution_count": 20,
     "metadata": {},
     "output_type": "execute_result"
    }
   ],
   "source": [
    "T1 = 90\n",
    "init"
   ]
  },
  {
   "cell_type": "markdown",
   "metadata": {},
   "source": [
    "And a `System` object to contain the system parameters."
   ]
  },
  {
   "cell_type": "code",
   "execution_count": 21,
   "metadata": {},
   "outputs": [
    {
     "data": {
      "text/html": [
       "<div>\n",
       "<style>\n",
       "    .dataframe thead tr:only-child th {\n",
       "        text-align: right;\n",
       "    }\n",
       "\n",
       "    .dataframe thead th {\n",
       "        text-align: left;\n",
       "    }\n",
       "\n",
       "    .dataframe tbody tr th {\n",
       "        vertical-align: top;\n",
       "    }\n",
       "</style>\n",
       "<table border=\"1\" class=\"dataframe\">\n",
       "  <thead>\n",
       "    <tr style=\"text-align: right;\">\n",
       "      <th></th>\n",
       "      <th>value</th>\n",
       "    </tr>\n",
       "  </thead>\n",
       "  <tbody>\n",
       "    <tr>\n",
       "      <th>init</th>\n",
       "      <td>temp    87\n",
       "dtype: int64</td>\n",
       "    </tr>\n",
       "    <tr>\n",
       "      <th>volume</th>\n",
       "      <td>300</td>\n",
       "    </tr>\n",
       "    <tr>\n",
       "      <th>r</th>\n",
       "      <td>0.01</td>\n",
       "    </tr>\n",
       "    <tr>\n",
       "      <th>T_env</th>\n",
       "      <td>22</td>\n",
       "    </tr>\n",
       "    <tr>\n",
       "      <th>t0</th>\n",
       "      <td>0</td>\n",
       "    </tr>\n",
       "    <tr>\n",
       "      <th>t_end</th>\n",
       "      <td>30</td>\n",
       "    </tr>\n",
       "    <tr>\n",
       "      <th>dt</th>\n",
       "      <td>1</td>\n",
       "    </tr>\n",
       "  </tbody>\n",
       "</table>\n",
       "</div>"
      ],
      "text/plain": [
       "init      temp    87\n",
       "dtype: int64\n",
       "volume                        300\n",
       "r                            0.01\n",
       "T_env                          22\n",
       "t0                              0\n",
       "t_end                          30\n",
       "dt                              1\n",
       "dtype: object"
      ]
     },
     "execution_count": 21,
     "metadata": {},
     "output_type": "execute_result"
    }
   ],
   "source": [
    "coffee = System(init=init,\n",
    "                volume=300,\n",
    "                r=0.01,\n",
    "                T_env=22,\n",
    "                t0=0, \n",
    "                t_end=30,\n",
    "                dt=1)\n",
    "coffee"
   ]
  },
  {
   "cell_type": "markdown",
   "metadata": {},
   "source": [
    "The `update` function implements Newton's law of cooling."
   ]
  },
  {
   "cell_type": "code",
   "execution_count": 22,
   "metadata": {
    "collapsed": true
   },
   "outputs": [],
   "source": [
    "def update(state, system):\n",
    "    \"\"\"Update the thermal transfer model.\n",
    "    \n",
    "    state: State (temp)\n",
    "    system: System object\n",
    "    \n",
    "    returns: State (temp)\n",
    "    \"\"\"\n",
    "    unpack(system)\n",
    "    T = state.temp\n",
    "    T += -r * (T - T_env) * dt\n",
    "\n",
    "    return State(temp=T)"
   ]
  },
  {
   "cell_type": "markdown",
   "metadata": {},
   "source": [
    "Here's how it works."
   ]
  },
  {
   "cell_type": "code",
   "execution_count": 23,
   "metadata": {},
   "outputs": [
    {
     "data": {
      "text/html": [
       "<div>\n",
       "<style>\n",
       "    .dataframe thead tr:only-child th {\n",
       "        text-align: right;\n",
       "    }\n",
       "\n",
       "    .dataframe thead th {\n",
       "        text-align: left;\n",
       "    }\n",
       "\n",
       "    .dataframe tbody tr th {\n",
       "        vertical-align: top;\n",
       "    }\n",
       "</style>\n",
       "<table border=\"1\" class=\"dataframe\">\n",
       "  <thead>\n",
       "    <tr style=\"text-align: right;\">\n",
       "      <th></th>\n",
       "      <th>value</th>\n",
       "    </tr>\n",
       "  </thead>\n",
       "  <tbody>\n",
       "    <tr>\n",
       "      <th>temp</th>\n",
       "      <td>86.35</td>\n",
       "    </tr>\n",
       "  </tbody>\n",
       "</table>\n",
       "</div>"
      ],
      "text/plain": [
       "temp    86.35\n",
       "dtype: float64"
      ]
     },
     "execution_count": 23,
     "metadata": {},
     "output_type": "execute_result"
    }
   ],
   "source": [
    "update(init, coffee)"
   ]
  },
  {
   "cell_type": "markdown",
   "metadata": {},
   "source": [
    "Now we can run simulations using the same function from the previous chapter."
   ]
  },
  {
   "cell_type": "code",
   "execution_count": 56,
   "metadata": {},
   "outputs": [],
   "source": [
    "def run_simulation(system, update_func):\n",
    "    \"\"\"Runs a simulation of the system.\n",
    "    \n",
    "    Add a TimeFrame to the System: results\n",
    "    \n",
    "    system: System object\n",
    "    update_func: function that updates state\n",
    "    \"\"\"\n",
    "    unpack(system)\n",
    "    \n",
    "    frame = TimeFrame(columns=init.index)\n",
    "    frame.loc[t0] = init\n",
    "    print('run sim init' + str(init))\n",
    "    ts = linrange(t0, t_end-dt, dt)\n",
    "    \n",
    "    for t in ts:\n",
    "        frame.loc[t+dt] = update_func(frame.loc[t], system)\n",
    "    \n",
    "    system.results = frame"
   ]
  },
  {
   "cell_type": "markdown",
   "metadata": {},
   "source": [
    "And here's how it works."
   ]
  },
  {
   "cell_type": "code",
   "execution_count": 48,
   "metadata": {},
   "outputs": [
    {
     "name": "stdout",
     "output_type": "stream",
     "text": [
      "run sim inittemp    90\n",
      "dtype: int64\n"
     ]
    },
    {
     "data": {
      "text/html": [
       "<div>\n",
       "<style>\n",
       "    .dataframe thead tr:only-child th {\n",
       "        text-align: right;\n",
       "    }\n",
       "\n",
       "    .dataframe thead th {\n",
       "        text-align: left;\n",
       "    }\n",
       "\n",
       "    .dataframe tbody tr th {\n",
       "        vertical-align: top;\n",
       "    }\n",
       "</style>\n",
       "<table border=\"1\" class=\"dataframe\">\n",
       "  <thead>\n",
       "    <tr style=\"text-align: right;\">\n",
       "      <th></th>\n",
       "      <th>temp</th>\n",
       "    </tr>\n",
       "  </thead>\n",
       "  <tbody>\n",
       "    <tr>\n",
       "      <th>0</th>\n",
       "      <td>90.000000</td>\n",
       "    </tr>\n",
       "    <tr>\n",
       "      <th>1</th>\n",
       "      <td>89.320000</td>\n",
       "    </tr>\n",
       "    <tr>\n",
       "      <th>2</th>\n",
       "      <td>88.646800</td>\n",
       "    </tr>\n",
       "    <tr>\n",
       "      <th>3</th>\n",
       "      <td>87.980332</td>\n",
       "    </tr>\n",
       "    <tr>\n",
       "      <th>4</th>\n",
       "      <td>87.320529</td>\n",
       "    </tr>\n",
       "    <tr>\n",
       "      <th>5</th>\n",
       "      <td>86.667323</td>\n",
       "    </tr>\n",
       "    <tr>\n",
       "      <th>6</th>\n",
       "      <td>86.020650</td>\n",
       "    </tr>\n",
       "    <tr>\n",
       "      <th>7</th>\n",
       "      <td>85.380444</td>\n",
       "    </tr>\n",
       "    <tr>\n",
       "      <th>8</th>\n",
       "      <td>84.746639</td>\n",
       "    </tr>\n",
       "    <tr>\n",
       "      <th>9</th>\n",
       "      <td>84.119173</td>\n",
       "    </tr>\n",
       "    <tr>\n",
       "      <th>10</th>\n",
       "      <td>83.497981</td>\n",
       "    </tr>\n",
       "    <tr>\n",
       "      <th>11</th>\n",
       "      <td>82.883001</td>\n",
       "    </tr>\n",
       "    <tr>\n",
       "      <th>12</th>\n",
       "      <td>82.274171</td>\n",
       "    </tr>\n",
       "    <tr>\n",
       "      <th>13</th>\n",
       "      <td>81.671430</td>\n",
       "    </tr>\n",
       "    <tr>\n",
       "      <th>14</th>\n",
       "      <td>81.074715</td>\n",
       "    </tr>\n",
       "    <tr>\n",
       "      <th>15</th>\n",
       "      <td>80.483968</td>\n",
       "    </tr>\n",
       "    <tr>\n",
       "      <th>16</th>\n",
       "      <td>79.899128</td>\n",
       "    </tr>\n",
       "    <tr>\n",
       "      <th>17</th>\n",
       "      <td>79.320137</td>\n",
       "    </tr>\n",
       "    <tr>\n",
       "      <th>18</th>\n",
       "      <td>78.746936</td>\n",
       "    </tr>\n",
       "    <tr>\n",
       "      <th>19</th>\n",
       "      <td>78.179466</td>\n",
       "    </tr>\n",
       "    <tr>\n",
       "      <th>20</th>\n",
       "      <td>77.617672</td>\n",
       "    </tr>\n",
       "    <tr>\n",
       "      <th>21</th>\n",
       "      <td>77.061495</td>\n",
       "    </tr>\n",
       "    <tr>\n",
       "      <th>22</th>\n",
       "      <td>76.510880</td>\n",
       "    </tr>\n",
       "    <tr>\n",
       "      <th>23</th>\n",
       "      <td>75.965771</td>\n",
       "    </tr>\n",
       "    <tr>\n",
       "      <th>24</th>\n",
       "      <td>75.426114</td>\n",
       "    </tr>\n",
       "    <tr>\n",
       "      <th>25</th>\n",
       "      <td>74.891852</td>\n",
       "    </tr>\n",
       "    <tr>\n",
       "      <th>26</th>\n",
       "      <td>74.362934</td>\n",
       "    </tr>\n",
       "    <tr>\n",
       "      <th>27</th>\n",
       "      <td>73.839305</td>\n",
       "    </tr>\n",
       "    <tr>\n",
       "      <th>28</th>\n",
       "      <td>73.320912</td>\n",
       "    </tr>\n",
       "    <tr>\n",
       "      <th>29</th>\n",
       "      <td>72.807702</td>\n",
       "    </tr>\n",
       "    <tr>\n",
       "      <th>30</th>\n",
       "      <td>72.299625</td>\n",
       "    </tr>\n",
       "  </tbody>\n",
       "</table>\n",
       "</div>"
      ],
      "text/plain": [
       "         temp\n",
       "0   90.000000\n",
       "1   89.320000\n",
       "2   88.646800\n",
       "3   87.980332\n",
       "4   87.320529\n",
       "5   86.667323\n",
       "6   86.020650\n",
       "7   85.380444\n",
       "8   84.746639\n",
       "9   84.119173\n",
       "10  83.497981\n",
       "11  82.883001\n",
       "12  82.274171\n",
       "13  81.671430\n",
       "14  81.074715\n",
       "15  80.483968\n",
       "16  79.899128\n",
       "17  79.320137\n",
       "18  78.746936\n",
       "19  78.179466\n",
       "20  77.617672\n",
       "21  77.061495\n",
       "22  76.510880\n",
       "23  75.965771\n",
       "24  75.426114\n",
       "25  74.891852\n",
       "26  74.362934\n",
       "27  73.839305\n",
       "28  73.320912\n",
       "29  72.807702\n",
       "30  72.299625"
      ]
     },
     "execution_count": 48,
     "metadata": {},
     "output_type": "execute_result"
    }
   ],
   "source": [
    "run_simulation(coffee, update)\n",
    "coffee.results"
   ]
  },
  {
   "cell_type": "markdown",
   "metadata": {},
   "source": [
    "Here's what the results look like."
   ]
  },
  {
   "cell_type": "code",
   "execution_count": 26,
   "metadata": {},
   "outputs": [
    {
     "data": {
      "image/png": "[encoded data removed]",
      "text/plain": [
       "<matplotlib.figure.Figure at 0x209ed910e80>"
      ]
     },
     "metadata": {},
     "output_type": "display_data"
    }
   ],
   "source": [
    "plot(coffee.results.temp, label='coffee')\n",
    "decorate(xlabel='Time (minutes)',\n",
    "         ylabel='Temperature (C)')"
   ]
  },
  {
   "cell_type": "markdown",
   "metadata": {},
   "source": [
    "After running the simulation, we can extract the final temperature from the results."
   ]
  },
  {
   "cell_type": "code",
   "execution_count": 27,
   "metadata": {
    "collapsed": true
   },
   "outputs": [],
   "source": [
    "def final_temp(system):\n",
    "    \"\"\"Final temperature.\n",
    "    \n",
    "    If system has no results, return initial temp.\n",
    "    \n",
    "    system: System object.\n",
    "    \n",
    "    returns: temperature (degC)\n",
    "    \"\"\"    \n",
    "    if hasattr(system, 'results'):\n",
    "        return system.results.temp[system.t_end]\n",
    "    else:\n",
    "        return system.init.temp"
   ]
  },
  {
   "cell_type": "markdown",
   "metadata": {},
   "source": [
    "It will be convenient to wrap these steps in a function.  `kwargs` is a collection of whatever keyword arguments are provided; they are passed along as arguments to `System`."
   ]
  },
  {
   "cell_type": "code",
   "execution_count": 57,
   "metadata": {},
   "outputs": [],
   "source": [
    "def make_system(T_init=90, r=0.01, volume=300, t_end=30):\n",
    "    \"\"\"Runs a simulation with the given parameters.\n",
    "\n",
    "    T_init: initial temperature in degC\n",
    "    r: heat transfer rate, in 1/min\n",
    "    volume: volume of liquid in mL\n",
    "    t_end: end time of simulation\n",
    "    \n",
    "    returns: System object\n",
    "    \"\"\"\n",
    "    init = State(temp=T_init)\n",
    "    print(init) \n",
    "    \n",
    "    system = System(init=init,\n",
    "                    volume=volume,\n",
    "                    r=r,\n",
    "                    T_env=22, \n",
    "                    t0=0,\n",
    "                    t_end=t_end,\n",
    "                    dt=1)\n",
    "    print(system.init)\n",
    "    return system"
   ]
  },
  {
   "cell_type": "code",
   "execution_count": 60,
   "metadata": {
    "collapsed": true
   },
   "outputs": [],
   "source": [
    "def sweep_init_temp(system, update_func):\n",
    "    T_array = linspace(80, 100, 5)\n",
    "    for i in T_array:\n",
    "        system = make_system(T_init=i)\n",
    "        print(i)\n",
    "        run_simulation(system, update_func)\n",
    "        print(system.results.temp)\n",
    "        plot(system.results.temp, label='coffee')\n",
    "        decorate(xlabel='Time (minutes)',\n",
    "                 ylabel='Temperature (C)')\n",
    "        "
   ]
  },
  {
   "cell_type": "code",
   "execution_count": 61,
   "metadata": {},
   "outputs": [
    {
     "name": "stdout",
     "output_type": "stream",
     "text": [
      "temp    80.0\n",
      "dtype: float64\n",
      "temp    80.0\n",
      "dtype: float64\n",
      "80.0\n",
      "run sim inittemp    80.0\n",
      "dtype: float64\n",
      "0     80.000000\n",
      "1     79.420000\n",
      "2     78.845800\n",
      "3     78.277342\n",
      "4     77.714569\n",
      "5     77.157423\n",
      "6     76.605849\n",
      "7     76.059790\n",
      "8     75.519192\n",
      "9     74.984000\n",
      "10    74.454160\n",
      "11    73.929619\n",
      "12    73.410323\n",
      "13    72.896219\n",
      "14    72.387257\n",
      "15    71.883385\n",
      "16    71.384551\n",
      "17    70.890705\n",
      "18    70.401798\n",
      "19    69.917780\n",
      "20    69.438602\n",
      "21    68.964216\n",
      "22    68.494574\n",
      "23    68.029628\n",
      "24    67.569332\n",
      "25    67.113639\n",
      "26    66.662502\n",
      "27    66.215877\n",
      "28    65.773719\n",
      "29    65.335981\n",
      "30    64.902622\n",
      "Name: temp, dtype: float64\n",
      "temp    85.0\n",
      "dtype: float64\n",
      "temp    85.0\n",
      "dtype: float64\n",
      "85.0\n",
      "run sim inittemp    85.0\n",
      "dtype: float64\n",
      "0     85.000000\n",
      "1     84.370000\n",
      "2     83.746300\n",
      "3     83.128837\n",
      "4     82.517549\n",
      "5     81.912373\n",
      "6     81.313249\n",
      "7     80.720117\n",
      "8     80.132916\n",
      "9     79.551587\n",
      "10    78.976071\n",
      "11    78.406310\n",
      "12    77.842247\n",
      "13    77.283824\n",
      "14    76.730986\n",
      "15    76.183676\n",
      "16    75.641840\n",
      "17    75.105421\n",
      "18    74.574367\n",
      "19    74.048623\n",
      "20    73.528137\n",
      "21    73.012856\n",
      "22    72.502727\n",
      "23    71.997700\n",
      "24    71.497723\n",
      "25    71.002746\n",
      "26    70.512718\n",
      "27    70.027591\n",
      "28    69.547315\n",
      "29    69.071842\n",
      "30    68.601124\n",
      "Name: temp, dtype: float64\n",
      "temp    90.0\n",
      "dtype: float64\n",
      "temp    90.0\n",
      "dtype: float64\n",
      "90.0\n",
      "run sim inittemp    90.0\n",
      "dtype: float64\n",
      "0     90.000000\n",
      "1     89.320000\n",
      "2     88.646800\n",
      "3     87.980332\n",
      "4     87.320529\n",
      "5     86.667323\n",
      "6     86.020650\n",
      "7     85.380444\n",
      "8     84.746639\n",
      "9     84.119173\n",
      "10    83.497981\n",
      "11    82.883001\n",
      "12    82.274171\n",
      "13    81.671430\n",
      "14    81.074715\n",
      "15    80.483968\n",
      "16    79.899128\n",
      "17    79.320137\n",
      "18    78.746936\n",
      "19    78.179466\n",
      "20    77.617672\n",
      "21    77.061495\n",
      "22    76.510880\n",
      "23    75.965771\n",
      "24    75.426114\n",
      "25    74.891852\n",
      "26    74.362934\n",
      "27    73.839305\n",
      "28    73.320912\n",
      "29    72.807702\n",
      "30    72.299625\n",
      "Name: temp, dtype: float64\n",
      "temp    95.0\n",
      "dtype: float64\n",
      "temp    95.0\n",
      "dtype: float64\n",
      "95.0\n",
      "run sim inittemp    95.0\n",
      "dtype: float64\n",
      "0     95.000000\n",
      "1     94.270000\n",
      "2     93.547300\n",
      "3     92.831827\n",
      "4     92.123509\n",
      "5     91.422274\n",
      "6     90.728051\n",
      "7     90.040770\n",
      "8     89.360363\n",
      "9     88.686759\n",
      "10    88.019891\n",
      "11    87.359693\n",
      "12    86.706096\n",
      "13    86.059035\n",
      "14    85.418444\n",
      "15    84.784260\n",
      "16    84.156417\n",
      "17    83.534853\n",
      "18    82.919505\n",
      "19    82.310310\n",
      "20    81.707206\n",
      "21    81.110134\n",
      "22    80.519033\n",
      "23    79.933843\n",
      "24    79.354504\n",
      "25    78.780959\n",
      "26    78.213150\n",
      "27    77.651018\n",
      "28    77.094508\n",
      "29    76.543563\n",
      "30    75.998127\n",
      "Name: temp, dtype: float64\n",
      "temp    100.0\n",
      "dtype: float64\n",
      "temp    100.0\n",
      "dtype: float64\n",
      "100.0\n",
      "run sim inittemp    100.0\n",
      "dtype: float64\n",
      "0     100.000000\n",
      "1      99.220000\n",
      "2      98.447800\n",
      "3      97.683322\n",
      "4      96.926489\n",
      "5      96.177224\n",
      "6      95.435452\n",
      "7      94.701097\n",
      "8      93.974086\n",
      "9      93.254345\n",
      "10     92.541802\n",
      "11     91.836384\n",
      "12     91.138020\n",
      "13     90.446640\n",
      "14     89.762173\n",
      "15     89.084552\n",
      "16     88.413706\n",
      "17     87.749569\n",
      "18     87.092073\n",
      "19     86.441153\n",
      "20     85.796741\n",
      "21     85.158774\n",
      "22     84.527186\n",
      "23     83.901914\n",
      "24     83.282895\n",
      "25     82.670066\n",
      "26     82.063365\n",
      "27     81.462732\n",
      "28     80.868104\n",
      "29     80.279423\n",
      "30     79.696629\n",
      "Name: temp, dtype: float64\n"
     ]
    },
    {
     "data": {
      "image/png": "[encoded data removed]",
      "text/plain": [
       "<matplotlib.figure.Figure at 0x209ee388128>"
      ]
     },
     "metadata": {},
     "output_type": "display_data"
    }
   ],
   "source": [
    "sweep_init_temp(coffee, update)"
   ]
  },
  {
   "cell_type": "markdown",
   "metadata": {},
   "source": [
    "Here's how we use it:"
   ]
  },
  {
   "cell_type": "code",
   "execution_count": 31,
   "metadata": {},
   "outputs": [
    {
     "data": {
      "text/plain": [
       "72.299625390403094"
      ]
     },
     "execution_count": 31,
     "metadata": {},
     "output_type": "execute_result"
    }
   ],
   "source": [
    "coffee = make_system()\n",
    "run_simulation(coffee, update)\n",
    "final_temp(coffee)"
   ]
  },
  {
   "cell_type": "markdown",
   "metadata": {},
   "source": [
    "**Exercise:**  Simulate the temperature of 50 mL of milk with a starting temperature of 5 degC, in a vessel with the same insulation, for 15 minutes, and plot the results."
   ]
  },
  {
   "cell_type": "code",
   "execution_count": 62,
   "metadata": {},
   "outputs": [
    {
     "name": "stdout",
     "output_type": "stream",
     "text": [
      "temp    5\n",
      "dtype: int64\n",
      "temp    5\n",
      "dtype: int64\n",
      "run sim inittemp    5\n",
      "dtype: int64\n"
     ]
    },
    {
     "data": {
      "text/plain": [
       "20.514978275278718"
      ]
     },
     "execution_count": 62,
     "metadata": {},
     "output_type": "execute_result"
    }
   ],
   "source": [
    "milk = make_system(T_init=5, r=0.15, volume=50, t_end=15)\n",
    "#picked new r because it seemed like the milk should get warmer faster. new value is arbitrary. \n",
    "#but felt like after fifteen min it would barely be colder than room temp.\n",
    "run_simulation(milk, update)\n",
    "final_temp(milk)\n",
    "\n",
    "#coffee = System(init=init,\n",
    "#                volume=300,\n",
    "#                r=0.01,\n",
    "#                T_env=22,\n",
    "#                t0=0, \n",
    "#                t_end=30,\n",
    "#                dt=1)\n",
    "#coffee"
   ]
  },
  {
   "cell_type": "code",
   "execution_count": 63,
   "metadata": {},
   "outputs": [
    {
     "data": {
      "image/png": "[encoded data removed]",
      "text/plain": [
       "<matplotlib.figure.Figure at 0x209ee4bb5f8>"
      ]
     },
     "metadata": {},
     "output_type": "display_data"
    }
   ],
   "source": [
    "plot(milk.results.temp, label='milk')\n",
    "decorate(xlabel='Time (minutes)',\n",
    "         ylabel='Temperature (C)')"
   ]
  },
  {
   "cell_type": "markdown",
   "metadata": {},
   "source": [
    "### Using `fsolve`\n",
    "\n",
    "As a simple example, let's find the roots of this function; that is, the values of `x` that make the result 0."
   ]
  },
  {
   "cell_type": "code",
   "execution_count": 64,
   "metadata": {
    "collapsed": true
   },
   "outputs": [],
   "source": [
    "def func(x):\n",
    "    return (x-1) * (x-2) * (x-3)"
   ]
  },
  {
   "cell_type": "code",
   "execution_count": 65,
   "metadata": {
    "collapsed": true
   },
   "outputs": [],
   "source": [
    "def sweep_init_temp2(system, update_func):\n",
    "    T_array = linspace(5, 25, 5)\n",
    "    for i in T_array:\n",
    "        system = make_system(T_init=i)\n",
    "        print(i)\n",
    "        run_simulation(system, update_func)\n",
    "        print(system.results.temp)\n",
    "        plot(system.results.temp, label='milk')\n",
    "        decorate(xlabel='Time (minutes)',\n",
    "                 ylabel='Temperature (C)')"
   ]
  },
  {
   "cell_type": "code",
   "execution_count": 66,
   "metadata": {},
   "outputs": [
    {
     "name": "stdout",
     "output_type": "stream",
     "text": [
      "temp    5.0\n",
      "dtype: float64\n",
      "temp    5.0\n",
      "dtype: float64\n",
      "5.0\n",
      "run sim inittemp    5.0\n",
      "dtype: float64\n",
      "0     5.000000\n",
      "1     5.170000\n",
      "2     5.338300\n",
      "3     5.504917\n",
      "4     5.669868\n",
      "5     5.833169\n",
      "6     5.994837\n",
      "7     6.154889\n",
      "8     6.313340\n",
      "9     6.470207\n",
      "10    6.625505\n",
      "11    6.779250\n",
      "12    6.931457\n",
      "13    7.082143\n",
      "14    7.231321\n",
      "15    7.379008\n",
      "16    7.525218\n",
      "17    7.669966\n",
      "18    7.813266\n",
      "19    7.955133\n",
      "20    8.095582\n",
      "21    8.234626\n",
      "22    8.372280\n",
      "23    8.508557\n",
      "24    8.643472\n",
      "25    8.777037\n",
      "26    8.909267\n",
      "27    9.040174\n",
      "28    9.169772\n",
      "29    9.298074\n",
      "30    9.425094\n",
      "Name: temp, dtype: float64\n",
      "temp    10.0\n",
      "dtype: float64\n",
      "temp    10.0\n",
      "dtype: float64\n",
      "10.0\n",
      "run sim inittemp    10.0\n",
      "dtype: float64\n",
      "0     10.000000\n",
      "1     10.120000\n",
      "2     10.238800\n",
      "3     10.356412\n",
      "4     10.472848\n",
      "5     10.588119\n",
      "6     10.702238\n",
      "7     10.815216\n",
      "8     10.927064\n",
      "9     11.037793\n",
      "10    11.147415\n",
      "11    11.255941\n",
      "12    11.363382\n",
      "13    11.469748\n",
      "14    11.575050\n",
      "15    11.679300\n",
      "16    11.782507\n",
      "17    11.884682\n",
      "18    11.985835\n",
      "19    12.085977\n",
      "20    12.185117\n",
      "21    12.283266\n",
      "22    12.380433\n",
      "23    12.476629\n",
      "24    12.571862\n",
      "25    12.666144\n",
      "26    12.759482\n",
      "27    12.851887\n",
      "28    12.943369\n",
      "29    13.033935\n",
      "30    13.123596\n",
      "Name: temp, dtype: float64\n",
      "temp    15.0\n",
      "dtype: float64\n",
      "temp    15.0\n",
      "dtype: float64\n",
      "15.0\n",
      "run sim inittemp    15.0\n",
      "dtype: float64\n",
      "0     15.000000\n",
      "1     15.070000\n",
      "2     15.139300\n",
      "3     15.207907\n",
      "4     15.275828\n",
      "5     15.343070\n",
      "6     15.409639\n",
      "7     15.475543\n",
      "8     15.540787\n",
      "9     15.605379\n",
      "10    15.669325\n",
      "11    15.732632\n",
      "12    15.795306\n",
      "13    15.857353\n",
      "14    15.918779\n",
      "15    15.979592\n",
      "16    16.039796\n",
      "17    16.099398\n",
      "18    16.158404\n",
      "19    16.216820\n",
      "20    16.274651\n",
      "21    16.331905\n",
      "22    16.388586\n",
      "23    16.444700\n",
      "24    16.500253\n",
      "25    16.555250\n",
      "26    16.609698\n",
      "27    16.663601\n",
      "28    16.716965\n",
      "29    16.769795\n",
      "30    16.822097\n",
      "Name: temp, dtype: float64\n",
      "temp    20.0\n",
      "dtype: float64\n",
      "temp    20.0\n",
      "dtype: float64\n",
      "20.0\n",
      "run sim inittemp    20.0\n",
      "dtype: float64\n",
      "0     20.000000\n",
      "1     20.020000\n",
      "2     20.039800\n",
      "3     20.059402\n",
      "4     20.078808\n",
      "5     20.098020\n",
      "6     20.117040\n",
      "7     20.135869\n",
      "8     20.154511\n",
      "9     20.172966\n",
      "10    20.191236\n",
      "11    20.209323\n",
      "12    20.227230\n",
      "13    20.244958\n",
      "14    20.262508\n",
      "15    20.279883\n",
      "16    20.297084\n",
      "17    20.314114\n",
      "18    20.330972\n",
      "19    20.347663\n",
      "20    20.364186\n",
      "21    20.380544\n",
      "22    20.396739\n",
      "23    20.412771\n",
      "24    20.428644\n",
      "25    20.444357\n",
      "26    20.459914\n",
      "27    20.475315\n",
      "28    20.490561\n",
      "29    20.505656\n",
      "30    20.520599\n",
      "Name: temp, dtype: float64\n",
      "temp    25.0\n",
      "dtype: float64\n",
      "temp    25.0\n",
      "dtype: float64\n",
      "25.0\n",
      "run sim inittemp    25.0\n",
      "dtype: float64\n",
      "0     25.000000\n",
      "1     24.970000\n",
      "2     24.940300\n",
      "3     24.910897\n",
      "4     24.881788\n",
      "5     24.852970\n",
      "6     24.824440\n",
      "7     24.796196\n",
      "8     24.768234\n",
      "9     24.740552\n",
      "10    24.713146\n",
      "11    24.686015\n",
      "12    24.659155\n",
      "13    24.632563\n",
      "14    24.606237\n",
      "15    24.580175\n",
      "16    24.554373\n",
      "17    24.528830\n",
      "18    24.503541\n",
      "19    24.478506\n",
      "20    24.453721\n",
      "21    24.429184\n",
      "22    24.404892\n",
      "23    24.380843\n",
      "24    24.357034\n",
      "25    24.333464\n",
      "26    24.310129\n",
      "27    24.287028\n",
      "28    24.264158\n",
      "29    24.241516\n",
      "30    24.219101\n",
      "Name: temp, dtype: float64\n"
     ]
    },
    {
     "data": {
      "image/png": "[encoded data removed]",
      "text/plain": [
       "<matplotlib.figure.Figure at 0x209ee617390>"
      ]
     },
     "metadata": {},
     "output_type": "display_data"
    }
   ],
   "source": [
    "sweep_init_temp2(milk, update)"
   ]
  },
  {
   "cell_type": "markdown",
   "metadata": {},
   "source": [
    "`modsim.py` provides `fsolve`, which does some error-checking and then runs `scipy.optimize.fsolve`.  The first argument is the function whose roots we want.  The second argument is an initial guess."
   ]
  },
  {
   "cell_type": "code",
   "execution_count": 67,
   "metadata": {},
   "outputs": [
    {
     "data": {
      "text/plain": [
       "array([ 1.])"
      ]
     },
     "execution_count": 67,
     "metadata": {},
     "output_type": "execute_result"
    }
   ],
   "source": [
    "fsolve(func, x0=0)"
   ]
  },
  {
   "cell_type": "markdown",
   "metadata": {},
   "source": [
    "Usually the root we get is the one that's closest to the initial guess."
   ]
  },
  {
   "cell_type": "code",
   "execution_count": 68,
   "metadata": {},
   "outputs": [
    {
     "data": {
      "text/plain": [
       "array([ 2.])"
      ]
     },
     "execution_count": 68,
     "metadata": {},
     "output_type": "execute_result"
    }
   ],
   "source": [
    "fsolve(func, 1.9)"
   ]
  },
  {
   "cell_type": "code",
   "execution_count": 69,
   "metadata": {},
   "outputs": [
    {
     "data": {
      "text/plain": [
       "array([ 3.])"
      ]
     },
     "execution_count": 69,
     "metadata": {},
     "output_type": "execute_result"
    }
   ],
   "source": [
    "fsolve(func, 2.9)"
   ]
  },
  {
   "cell_type": "markdown",
   "metadata": {},
   "source": [
    "But not always."
   ]
  },
  {
   "cell_type": "code",
   "execution_count": 70,
   "metadata": {},
   "outputs": [
    {
     "data": {
      "text/plain": [
       "array([ 3.])"
      ]
     },
     "execution_count": 70,
     "metadata": {},
     "output_type": "execute_result"
    }
   ],
   "source": [
    "fsolve(func, 1.5)"
   ]
  },
  {
   "cell_type": "markdown",
   "metadata": {},
   "source": [
    "We want to find the value of `r` that makes the final temperature 70, so we define an \"error function\" that takes `r` as a parameter and returns the difference between the final temperature and the goal."
   ]
  },
  {
   "cell_type": "code",
   "execution_count": 72,
   "metadata": {
    "collapsed": true
   },
   "outputs": [],
   "source": [
    "def error_func1(r):\n",
    "    \"\"\"Runs a simulation and returns the `error`.\n",
    "    \n",
    "    r: heat transfer rate, in 1/min\n",
    "    \n",
    "    returns: difference between final temp and 70 C\n",
    "    \"\"\"\n",
    "    system = make_system(r=r)\n",
    "    print(r)\n",
    "    run_simulation(system, update)\n",
    "    return final_temp(system) - 70"
   ]
  },
  {
   "cell_type": "markdown",
   "metadata": {},
   "source": [
    "With `r=0.01`, we end up a little too warm."
   ]
  },
  {
   "cell_type": "code",
   "execution_count": 73,
   "metadata": {},
   "outputs": [
    {
     "name": "stdout",
     "output_type": "stream",
     "text": [
      "temp    90\n",
      "dtype: int64\n",
      "temp    90\n",
      "dtype: int64\n",
      "0.01\n",
      "run sim inittemp    90\n",
      "dtype: int64\n"
     ]
    },
    {
     "data": {
      "text/plain": [
       "2.2996253904030937"
      ]
     },
     "execution_count": 73,
     "metadata": {},
     "output_type": "execute_result"
    }
   ],
   "source": [
    "error_func1(r=0.01)"
   ]
  },
  {
   "cell_type": "markdown",
   "metadata": {},
   "source": [
    "The return value from `fsolve` is an array with a single element, the estimated value of `r`."
   ]
  },
  {
   "cell_type": "code",
   "execution_count": 74,
   "metadata": {},
   "outputs": [
    {
     "name": "stdout",
     "output_type": "stream",
     "text": [
      "temp    90\n",
      "dtype: int64\n",
      "temp    90\n",
      "dtype: int64\n",
      "0.01\n",
      "run sim inittemp    90\n",
      "dtype: int64\n",
      "temp    90\n",
      "dtype: int64\n",
      "temp    90\n",
      "dtype: int64\n",
      "[ 0.01]\n",
      "run sim inittemp    90\n",
      "dtype: int64\n",
      "temp    90\n",
      "dtype: int64\n",
      "temp    90\n",
      "dtype: int64\n",
      "[ 0.01]\n",
      "run sim inittemp    90\n",
      "dtype: int64\n",
      "temp    90\n",
      "dtype: int64\n",
      "temp    90\n",
      "dtype: int64\n",
      "[ 0.01]\n",
      "run sim inittemp    90\n",
      "dtype: int64\n",
      "temp    90\n",
      "dtype: int64\n",
      "temp    90\n",
      "dtype: int64\n",
      "[ 0.01]\n",
      "run sim inittemp    90\n",
      "dtype: int64\n",
      "temp    90\n",
      "dtype: int64\n",
      "temp    90\n",
      "dtype: int64\n",
      "[ 0.01150871]\n",
      "run sim inittemp    90\n",
      "dtype: int64\n",
      "temp    90\n",
      "dtype: int64\n",
      "temp    90\n",
      "dtype: int64\n",
      "[ 0.01154231]\n",
      "run sim inittemp    90\n",
      "dtype: int64\n",
      "temp    90\n",
      "dtype: int64\n",
      "temp    90\n",
      "dtype: int64\n",
      "[ 0.01154308]\n",
      "run sim inittemp    90\n",
      "dtype: int64\n",
      "temp    90\n",
      "dtype: int64\n",
      "temp    90\n",
      "dtype: int64\n",
      "[ 0.01154308]\n",
      "run sim inittemp    90\n",
      "dtype: int64\n",
      "temp    90\n",
      "dtype: int64\n",
      "temp    90\n",
      "dtype: int64\n",
      "[ 0.01154308]\n",
      "run sim inittemp    90\n",
      "dtype: int64\n"
     ]
    },
    {
     "data": {
      "text/plain": [
       "0.011543084583978345"
      ]
     },
     "execution_count": 74,
     "metadata": {},
     "output_type": "execute_result"
    }
   ],
   "source": [
    "solution = fsolve(error_func1, 0.01, xtol=1e-8)\n",
    "r_coffee = solution[0]\n",
    "r_coffee"
   ]
  },
  {
   "cell_type": "markdown",
   "metadata": {},
   "source": [
    "If we run the simulation with the estimated value of `r`, the final temperature is 70 C, as expected."
   ]
  },
  {
   "cell_type": "code",
   "execution_count": 75,
   "metadata": {},
   "outputs": [
    {
     "name": "stdout",
     "output_type": "stream",
     "text": [
      "temp    90\n",
      "dtype: int64\n",
      "temp    90\n",
      "dtype: int64\n",
      "run sim inittemp    90\n",
      "dtype: int64\n"
     ]
    },
    {
     "data": {
      "text/plain": [
       "70.0"
      ]
     },
     "execution_count": 75,
     "metadata": {},
     "output_type": "execute_result"
    }
   ],
   "source": [
    "coffee = make_system(r=r_coffee)\n",
    "run_simulation(coffee, update)\n",
    "final_temp(coffee)"
   ]
  },
  {
   "cell_type": "markdown",
   "metadata": {},
   "source": [
    "**Exercise:**  When you call `fsolve`, it calls `error_func1` several times.  To see how this works, add a print statement to `error_func1` and run `fsolve` again."
   ]
  },
  {
   "cell_type": "markdown",
   "metadata": {},
   "source": [
    "**Exercise:** Repeat this process to estimate `r_milk`, given that it starts at 5 C and reaches 20 C after 15 minutes.  \n",
    "\n",
    "Before you use `fsolve`, you might want to try a few values for `r_milk` and see how close you can get by trial and error.  Here's an initial guess to get you started:"
   ]
  },
  {
   "cell_type": "code",
   "execution_count": 76,
   "metadata": {},
   "outputs": [
    {
     "name": "stdout",
     "output_type": "stream",
     "text": [
      "temp    5\n",
      "dtype: int64\n",
      "temp    5\n",
      "dtype: int64\n",
      "run sim inittemp    5\n",
      "dtype: int64\n"
     ]
    },
    {
     "data": {
      "text/plain": [
       "19.501444483698084"
      ]
     },
     "execution_count": 76,
     "metadata": {},
     "output_type": "execute_result"
    }
   ],
   "source": [
    "r_milk = 0.12\n",
    "#picked this value because it seemed pretty close from my graph above.\n",
    "milk = make_system(T_init=5, t_end=15, r=r_milk)\n",
    "run_simulation(milk, update)\n",
    "final_temp(milk)"
   ]
  },
  {
   "cell_type": "code",
   "execution_count": 77,
   "metadata": {
    "collapsed": true
   },
   "outputs": [],
   "source": [
    "def error_func2(r):\n",
    "    system = make_system(r=r, T_init=5, t_end=15)\n",
    "    print(r)\n",
    "    run_simulation(system, update)\n",
    "    return final_temp(system) - 20"
   ]
  },
  {
   "cell_type": "code",
   "execution_count": 78,
   "metadata": {},
   "outputs": [
    {
     "name": "stdout",
     "output_type": "stream",
     "text": [
      "temp    5\n",
      "dtype: int64\n",
      "temp    5\n",
      "dtype: int64\n",
      "0.12\n",
      "run sim inittemp    5\n",
      "dtype: int64\n"
     ]
    },
    {
     "data": {
      "text/plain": [
       "-0.49855551630191641"
      ]
     },
     "execution_count": 78,
     "metadata": {},
     "output_type": "execute_result"
    }
   ],
   "source": [
    "error_func2(r=0.12)"
   ]
  },
  {
   "cell_type": "code",
   "execution_count": 79,
   "metadata": {},
   "outputs": [
    {
     "name": "stdout",
     "output_type": "stream",
     "text": [
      "temp    5\n",
      "dtype: int64\n",
      "temp    5\n",
      "dtype: int64\n",
      "0.12\n",
      "run sim inittemp    5\n",
      "dtype: int64\n",
      "temp    5\n",
      "dtype: int64\n",
      "temp    5\n",
      "dtype: int64\n",
      "[ 0.12]\n",
      "run sim inittemp    5\n",
      "dtype: int64\n",
      "temp    5\n",
      "dtype: int64\n",
      "temp    5\n",
      "dtype: int64\n",
      "[ 0.12]\n",
      "run sim inittemp    5\n",
      "dtype: int64\n",
      "temp    5\n",
      "dtype: int64\n",
      "temp    5\n",
      "dtype: int64\n",
      "[ 0.12]\n",
      "run sim inittemp    5\n",
      "dtype: int64\n",
      "temp    5\n",
      "dtype: int64\n",
      "temp    5\n",
      "dtype: int64\n",
      "[ 0.12]\n",
      "run sim inittemp    5\n",
      "dtype: int64\n",
      "temp    5\n",
      "dtype: int64\n",
      "temp    5\n",
      "dtype: int64\n",
      "[ 0.1317062]\n",
      "run sim inittemp    5\n",
      "dtype: int64\n",
      "temp    5\n",
      "dtype: int64\n",
      "temp    5\n",
      "dtype: int64\n",
      "[ 0.13283515]\n",
      "run sim inittemp    5\n",
      "dtype: int64\n",
      "temp    5\n",
      "dtype: int64\n",
      "temp    5\n",
      "dtype: int64\n",
      "[ 0.13295952]\n",
      "run sim inittemp    5\n",
      "dtype: int64\n",
      "temp    5\n",
      "dtype: int64\n",
      "temp    5\n",
      "dtype: int64\n",
      "[ 0.13296079]\n",
      "run sim inittemp    5\n",
      "dtype: int64\n",
      "temp    5\n",
      "dtype: int64\n",
      "temp    5\n",
      "dtype: int64\n",
      "[ 0.13296079]\n",
      "run sim inittemp    5\n",
      "dtype: int64\n",
      "temp    5\n",
      "dtype: int64\n",
      "temp    5\n",
      "dtype: int64\n",
      "[ 0.13296079]\n",
      "run sim inittemp    5\n",
      "dtype: int64\n"
     ]
    },
    {
     "data": {
      "text/plain": [
       "0.13296078935466449"
      ]
     },
     "execution_count": 79,
     "metadata": {},
     "output_type": "execute_result"
    }
   ],
   "source": [
    "solution = fsolve(error_func2, 0.12, xtol=1e-8)\n",
    "r_milk = solution[0]\n",
    "r_milk"
   ]
  },
  {
   "cell_type": "code",
   "execution_count": 80,
   "metadata": {},
   "outputs": [
    {
     "name": "stdout",
     "output_type": "stream",
     "text": [
      "temp    5\n",
      "dtype: int64\n",
      "temp    5\n",
      "dtype: int64\n",
      "run sim inittemp    5\n",
      "dtype: int64\n"
     ]
    },
    {
     "data": {
      "text/plain": [
       "19.999999999999996"
      ]
     },
     "execution_count": 80,
     "metadata": {},
     "output_type": "execute_result"
    }
   ],
   "source": [
    "milk = make_system(r=r_milk, T_init=5, t_end=15)\n",
    "run_simulation(milk, update)\n",
    "final_temp(milk)"
   ]
  },
  {
   "cell_type": "markdown",
   "metadata": {},
   "source": [
    "### Mixing liquids"
   ]
  },
  {
   "cell_type": "markdown",
   "metadata": {},
   "source": [
    "The following function takes `System` objects that represent two liquids, computes the temperature of the mixture, and returns a new `System` object that represents the mixture."
   ]
  },
  {
   "cell_type": "code",
   "execution_count": 81,
   "metadata": {
    "collapsed": true
   },
   "outputs": [],
   "source": [
    "def mix(s1, s2):\n",
    "    \"\"\"Simulates the mixture of two liquids.\n",
    "    \n",
    "    s1: System representing coffee\n",
    "    s2: System representing milk\n",
    "    \n",
    "    returns: System representing the mixture\n",
    "    \"\"\"\n",
    "    assert s1.t_end == s2.t_end\n",
    "    \n",
    "    volume = s1.volume + s2.volume\n",
    "    \n",
    "    temp = (s1.volume * final_temp(s1) + \n",
    "            s2.volume * final_temp(s2)) / volume\n",
    "    \n",
    "    mixture = make_system(T_init=temp,\n",
    "                          volume=volume,\n",
    "                          r=s1.r)\n",
    "    \n",
    "    return mixture"
   ]
  },
  {
   "cell_type": "markdown",
   "metadata": {},
   "source": [
    "First we'll see what happens if we add the milk at the end.  We'll simulate the coffee and the milk separately."
   ]
  },
  {
   "cell_type": "code",
   "execution_count": 82,
   "metadata": {},
   "outputs": [
    {
     "name": "stdout",
     "output_type": "stream",
     "text": [
      "temp    90\n",
      "dtype: int64\n",
      "temp    90\n",
      "dtype: int64\n",
      "run sim inittemp    90\n",
      "dtype: int64\n"
     ]
    },
    {
     "data": {
      "text/plain": [
       "70.0"
      ]
     },
     "execution_count": 82,
     "metadata": {},
     "output_type": "execute_result"
    }
   ],
   "source": [
    "coffee = make_system(T_init=90, t_end=30, r=r_coffee, volume=300)\n",
    "run_simulation(coffee, update)\n",
    "final_temp(coffee)"
   ]
  },
  {
   "cell_type": "code",
   "execution_count": 83,
   "metadata": {
    "scrolled": true
   },
   "outputs": [
    {
     "name": "stdout",
     "output_type": "stream",
     "text": [
      "temp    5\n",
      "dtype: int64\n",
      "temp    5\n",
      "dtype: int64\n",
      "run sim inittemp    5\n",
      "dtype: int64\n"
     ]
    },
    {
     "data": {
      "text/plain": [
       "21.764705882352942"
      ]
     },
     "execution_count": 83,
     "metadata": {},
     "output_type": "execute_result"
    }
   ],
   "source": [
    "milk = make_system(T_init=5, t_end=30, r=r_milk, volume=50)\n",
    "run_simulation(milk, update)\n",
    "final_temp(milk)"
   ]
  },
  {
   "cell_type": "markdown",
   "metadata": {},
   "source": [
    "Here's what the results look like."
   ]
  },
  {
   "cell_type": "code",
   "execution_count": 84,
   "metadata": {},
   "outputs": [
    {
     "name": "stdout",
     "output_type": "stream",
     "text": [
      "Saving figure to file chap07-fig01.pdf\n"
     ]
    },
    {
     "data": {
      "image/png": "[encoded data removed]",
      "text/plain": [
       "<matplotlib.figure.Figure at 0x209ee2c0198>"
      ]
     },
     "metadata": {},
     "output_type": "display_data"
    }
   ],
   "source": [
    "plot(coffee.results.temp, label='coffee')\n",
    "plot(milk.results.temp, '--', label='milk')\n",
    "decorate(xlabel='Time (minutes)',\n",
    "         ylabel='Temperature (C)',\n",
    "         loc='center left')\n",
    "\n",
    "savefig('chap07-fig01.pdf')"
   ]
  },
  {
   "cell_type": "markdown",
   "metadata": {},
   "source": [
    "Here's what happens when we mix them."
   ]
  },
  {
   "cell_type": "code",
   "execution_count": 85,
   "metadata": {},
   "outputs": [
    {
     "name": "stdout",
     "output_type": "stream",
     "text": [
      "temp    63.109244\n",
      "dtype: float64\n",
      "temp    63.109244\n",
      "dtype: float64\n"
     ]
    },
    {
     "data": {
      "text/plain": [
       "63.109243697478988"
      ]
     },
     "execution_count": 85,
     "metadata": {},
     "output_type": "execute_result"
    }
   ],
   "source": [
    "mix_last = mix(coffee, milk)\n",
    "final_temp(mix_last)"
   ]
  },
  {
   "cell_type": "markdown",
   "metadata": {},
   "source": [
    "And here's what we get if we add the milk immediately."
   ]
  },
  {
   "cell_type": "code",
   "execution_count": 86,
   "metadata": {},
   "outputs": [
    {
     "name": "stdout",
     "output_type": "stream",
     "text": [
      "temp    90\n",
      "dtype: int64\n",
      "temp    90\n",
      "dtype: int64\n",
      "temp    5\n",
      "dtype: int64\n",
      "temp    5\n",
      "dtype: int64\n"
     ]
    }
   ],
   "source": [
    "coffee = make_system(T_init=90, r=r_coffee, volume=300)\n",
    "milk = make_system(T_init=5, r=r_milk, volume=50)"
   ]
  },
  {
   "cell_type": "code",
   "execution_count": 87,
   "metadata": {},
   "outputs": [
    {
     "name": "stdout",
     "output_type": "stream",
     "text": [
      "temp    77.857143\n",
      "dtype: float64\n",
      "temp    77.857143\n",
      "dtype: float64\n",
      "run sim inittemp    77.857143\n",
      "dtype: float64\n"
     ]
    },
    {
     "data": {
      "text/plain": [
       "61.428571428571438"
      ]
     },
     "execution_count": 87,
     "metadata": {},
     "output_type": "execute_result"
    }
   ],
   "source": [
    "mix_first = mix(coffee, milk)\n",
    "mix_first.t_end = 30\n",
    "run_simulation(mix_first, update)\n",
    "final_temp(mix_first)"
   ]
  },
  {
   "cell_type": "markdown",
   "metadata": {},
   "source": [
    "The following function takes `t_add`, which is the time when the milk is added, and returns the final temperature."
   ]
  },
  {
   "cell_type": "code",
   "execution_count": 93,
   "metadata": {
    "collapsed": true
   },
   "outputs": [],
   "source": [
    "def run_and_mix(t_add, t_total=30):\n",
    "    \"\"\"Simulates two liquids and them mixes them at t_add.\n",
    "    \n",
    "    t_add: time in minutes\n",
    "    t_total: total time to simulate, min\n",
    "    \n",
    "    returns: final temperature\n",
    "    \"\"\"\n",
    "    coffee = make_system(T_init=90, t_end=t_add, \n",
    "                         r=r_coffee, volume=300)\n",
    "    run_simulation(coffee, update)\n",
    "\n",
    "    milk = make_system(T_init=5, t_end=t_add, \n",
    "                       r=r_milk, volume=50)\n",
    "    run_simulation(milk, update)\n",
    "    \n",
    "    mixture = mix(coffee, milk)\n",
    "    mixture.t_end = t_total - t_add\n",
    "    run_simulation(mixture, update)\n",
    "\n",
    "    return final_temp(mixture)"
   ]
  },
  {
   "cell_type": "code",
   "execution_count": 100,
   "metadata": {
    "collapsed": true
   },
   "outputs": [],
   "source": [
    "def sweep_init_temp2(system, update_func):\n",
    "    T_array = linspace(5, 25, 5)\n",
    "    for i in T_array:\n",
    "        system = make_system(T_init=i)\n",
    "        print(i)\n",
    "        run_simulation(system, update_func)\n",
    "        print(system.results.temp)\n",
    "        plot(system.results.temp, label='milk')\n",
    "        decorate(xlabel='Time (minutes)',\n",
    "                 ylabel='Temperature (C)')"
   ]
  },
  {
   "cell_type": "code",
   "execution_count": 101,
   "metadata": {},
   "outputs": [
    {
     "name": "stdout",
     "output_type": "stream",
     "text": [
      "temp    5.0\n",
      "dtype: float64\n",
      "temp    5.0\n",
      "dtype: float64\n",
      "5.0\n",
      "run sim inittemp    5.0\n",
      "dtype: float64\n",
      "0     5.000000\n",
      "1     5.170000\n",
      "2     5.338300\n",
      "3     5.504917\n",
      "4     5.669868\n",
      "5     5.833169\n",
      "6     5.994837\n",
      "7     6.154889\n",
      "8     6.313340\n",
      "9     6.470207\n",
      "10    6.625505\n",
      "11    6.779250\n",
      "12    6.931457\n",
      "13    7.082143\n",
      "14    7.231321\n",
      "15    7.379008\n",
      "16    7.525218\n",
      "17    7.669966\n",
      "18    7.813266\n",
      "19    7.955133\n",
      "20    8.095582\n",
      "21    8.234626\n",
      "22    8.372280\n",
      "23    8.508557\n",
      "24    8.643472\n",
      "25    8.777037\n",
      "26    8.909267\n",
      "27    9.040174\n",
      "28    9.169772\n",
      "29    9.298074\n",
      "30    9.425094\n",
      "Name: temp, dtype: float64\n",
      "temp    10.0\n",
      "dtype: float64\n",
      "temp    10.0\n",
      "dtype: float64\n",
      "10.0\n",
      "run sim inittemp    10.0\n",
      "dtype: float64\n",
      "0     10.000000\n",
      "1     10.120000\n",
      "2     10.238800\n",
      "3     10.356412\n",
      "4     10.472848\n",
      "5     10.588119\n",
      "6     10.702238\n",
      "7     10.815216\n",
      "8     10.927064\n",
      "9     11.037793\n",
      "10    11.147415\n",
      "11    11.255941\n",
      "12    11.363382\n",
      "13    11.469748\n",
      "14    11.575050\n",
      "15    11.679300\n",
      "16    11.782507\n",
      "17    11.884682\n",
      "18    11.985835\n",
      "19    12.085977\n",
      "20    12.185117\n",
      "21    12.283266\n",
      "22    12.380433\n",
      "23    12.476629\n",
      "24    12.571862\n",
      "25    12.666144\n",
      "26    12.759482\n",
      "27    12.851887\n",
      "28    12.943369\n",
      "29    13.033935\n",
      "30    13.123596\n",
      "Name: temp, dtype: float64\n",
      "temp    15.0\n",
      "dtype: float64\n",
      "temp    15.0\n",
      "dtype: float64\n",
      "15.0\n",
      "run sim inittemp    15.0\n",
      "dtype: float64\n",
      "0     15.000000\n",
      "1     15.070000\n",
      "2     15.139300\n",
      "3     15.207907\n",
      "4     15.275828\n",
      "5     15.343070\n",
      "6     15.409639\n",
      "7     15.475543\n",
      "8     15.540787\n",
      "9     15.605379\n",
      "10    15.669325\n",
      "11    15.732632\n",
      "12    15.795306\n",
      "13    15.857353\n",
      "14    15.918779\n",
      "15    15.979592\n",
      "16    16.039796\n",
      "17    16.099398\n",
      "18    16.158404\n",
      "19    16.216820\n",
      "20    16.274651\n",
      "21    16.331905\n",
      "22    16.388586\n",
      "23    16.444700\n",
      "24    16.500253\n",
      "25    16.555250\n",
      "26    16.609698\n",
      "27    16.663601\n",
      "28    16.716965\n",
      "29    16.769795\n",
      "30    16.822097\n",
      "Name: temp, dtype: float64\n",
      "temp    20.0\n",
      "dtype: float64\n",
      "temp    20.0\n",
      "dtype: float64\n",
      "20.0\n",
      "run sim inittemp    20.0\n",
      "dtype: float64\n",
      "0     20.000000\n",
      "1     20.020000\n",
      "2     20.039800\n",
      "3     20.059402\n",
      "4     20.078808\n",
      "5     20.098020\n",
      "6     20.117040\n",
      "7     20.135869\n",
      "8     20.154511\n",
      "9     20.172966\n",
      "10    20.191236\n",
      "11    20.209323\n",
      "12    20.227230\n",
      "13    20.244958\n",
      "14    20.262508\n",
      "15    20.279883\n",
      "16    20.297084\n",
      "17    20.314114\n",
      "18    20.330972\n",
      "19    20.347663\n",
      "20    20.364186\n",
      "21    20.380544\n",
      "22    20.396739\n",
      "23    20.412771\n",
      "24    20.428644\n",
      "25    20.444357\n",
      "26    20.459914\n",
      "27    20.475315\n",
      "28    20.490561\n",
      "29    20.505656\n",
      "30    20.520599\n",
      "Name: temp, dtype: float64\n",
      "temp    25.0\n",
      "dtype: float64\n",
      "temp    25.0\n",
      "dtype: float64\n",
      "25.0\n",
      "run sim inittemp    25.0\n",
      "dtype: float64\n",
      "0     25.000000\n",
      "1     24.970000\n",
      "2     24.940300\n",
      "3     24.910897\n",
      "4     24.881788\n",
      "5     24.852970\n",
      "6     24.824440\n",
      "7     24.796196\n",
      "8     24.768234\n",
      "9     24.740552\n",
      "10    24.713146\n",
      "11    24.686015\n",
      "12    24.659155\n",
      "13    24.632563\n",
      "14    24.606237\n",
      "15    24.580175\n",
      "16    24.554373\n",
      "17    24.528830\n",
      "18    24.503541\n",
      "19    24.478506\n",
      "20    24.453721\n",
      "21    24.429184\n",
      "22    24.404892\n",
      "23    24.380843\n",
      "24    24.357034\n",
      "25    24.333464\n",
      "26    24.310129\n",
      "27    24.287028\n",
      "28    24.264158\n",
      "29    24.241516\n",
      "30    24.219101\n",
      "Name: temp, dtype: float64\n"
     ]
    },
    {
     "data": {
      "image/png": "[encoded data removed]",
      "text/plain": [
       "<matplotlib.figure.Figure at 0x209ee2c0fd0>"
      ]
     },
     "metadata": {},
     "output_type": "display_data"
    }
   ],
   "source": [
    "sweep_init_temp2(milk, update)"
   ]
  },
  {
   "cell_type": "code",
   "execution_count": 102,
   "metadata": {
    "collapsed": true
   },
   "outputs": [],
   "source": [
    "def run_and_mix_and_sweep(t_add, t_total=30):\n",
    "    \"\"\"Simulates two liquids and them mixes them at t_add.\n",
    "    \n",
    "    t_add: time in minutes\n",
    "    t_total: total time to simulate, min\n",
    "    \n",
    "    returns: final temperature\n",
    "    \"\"\"\n",
    "    coffee = make_system(T_init=90, t_end=t_add, \n",
    "                         r=r_coffee, volume=300)\n",
    "    run_simulation(coffee, update)\n",
    "\n",
    "    sweep_init_temp2(milk, update)\n",
    " \n",
    "    \n",
    "    mixture = mix(coffee, milk)\n",
    "    mixture.t_end = t_total - t_add\n",
    "    run_simulation(mixture, update)\n",
    "\n",
    "    return final_temp(mixture)"
   ]
  },
  {
   "cell_type": "code",
   "execution_count": 103,
   "metadata": {},
   "outputs": [
    {
     "ename": "TypeError",
     "evalue": "run_and_mix_and_sweep() missing 1 required positional argument: 't_add'",
     "output_type": "error",
     "traceback": [
      "\u001b[1;31m---------------------------------------------------------------------------\u001b[0m",
      "\u001b[1;31mTypeError\u001b[0m                                 Traceback (most recent call last)",
      "\u001b[1;32m<ipython-input-103-282b6f22dc6c>\u001b[0m in \u001b[0;36m<module>\u001b[1;34m()\u001b[0m\n\u001b[1;32m----> 1\u001b[1;33m \u001b[0mrun_and_mix_and_sweep\u001b[0m\u001b[1;33m(\u001b[0m\u001b[1;33m)\u001b[0m\u001b[1;33m\u001b[0m\u001b[0m\n\u001b[0m\u001b[0;32m      2\u001b[0m \u001b[0mplot\u001b[0m\u001b[1;33m(\u001b[0m\u001b[0mfinal_temp\u001b[0m\u001b[1;33m(\u001b[0m\u001b[0mmixture\u001b[0m\u001b[1;33m)\u001b[0m\u001b[1;33m)\u001b[0m\u001b[1;33m\u001b[0m\u001b[0m\n",
      "\u001b[1;31mTypeError\u001b[0m: run_and_mix_and_sweep() missing 1 required positional argument: 't_add'"
     ]
    }
   ],
   "source": [
    "run_and_mix_and_sweep()\n",
    "plot(final_temp(mixture))"
   ]
  },
  {
   "cell_type": "markdown",
   "metadata": {},
   "source": [
    "We can try it out with a few values."
   ]
  },
  {
   "cell_type": "code",
   "execution_count": 169,
   "metadata": {},
   "outputs": [
    {
     "data": {
      "text/plain": [
       "61.428571428571438"
      ]
     },
     "execution_count": 169,
     "metadata": {},
     "output_type": "execute_result"
    }
   ],
   "source": [
    "run_and_mix(0)"
   ]
  },
  {
   "cell_type": "code",
   "execution_count": 170,
   "metadata": {},
   "outputs": [
    {
     "data": {
      "text/plain": [
       "62.90280912845234"
      ]
     },
     "execution_count": 170,
     "metadata": {},
     "output_type": "execute_result"
    }
   ],
   "source": [
    "run_and_mix(15)"
   ]
  },
  {
   "cell_type": "code",
   "execution_count": 171,
   "metadata": {},
   "outputs": [
    {
     "data": {
      "text/plain": [
       "63.109243697478988"
      ]
     },
     "execution_count": 171,
     "metadata": {},
     "output_type": "execute_result"
    }
   ],
   "source": [
    "run_and_mix(30)"
   ]
  },
  {
   "cell_type": "markdown",
   "metadata": {},
   "source": [
    "And then sweep a range of values for `t_add`"
   ]
  },
  {
   "cell_type": "code",
   "execution_count": 175,
   "metadata": {
    "collapsed": true
   },
   "outputs": [],
   "source": [
    "sweep = SweepSeries()\n",
    "for t_add in linrange(0, 30, 2):\n",
    "    temp = run_and_mix(t_add)\n",
    "    sweep[t_add] = temp"
   ]
  },
  {
   "cell_type": "markdown",
   "metadata": {},
   "source": [
    "Here's what the result looks like."
   ]
  },
  {
   "cell_type": "code",
   "execution_count": 176,
   "metadata": {},
   "outputs": [
    {
     "name": "stdout",
     "output_type": "stream",
     "text": [
      "Saving figure to file chap07-fig02.pdf\n"
     ]
    },
    {
     "data": {
      "image/png": "[encoded data removed]",
      "text/plain": [
       "<matplotlib.figure.Figure at 0x2c46f368898>"
      ]
     },
     "metadata": {},
     "output_type": "display_data"
    }
   ],
   "source": [
    "plot(sweep, color='purple')\n",
    "decorate(xlabel='Time added (min)',\n",
    "         ylabel='Final temperature (C)',\n",
    "         legend=False)\n",
    "\n",
    "savefig('chap07-fig02.pdf')"
   ]
  },
  {
   "cell_type": "markdown",
   "metadata": {},
   "source": [
    "**Exercise:**  Suppose the coffee shop won't let me take milk in a separate container, but I keep a bottle of milk in the refrigerator at my office.  In that case is it better to add the milk at the coffee shop, or wait until I get to the office?\n",
    "\n",
    "Hint: Think about the simplest way to represent the behavior of a refrigerator in this model.  The change you make to test this variation of the problem should be very small!"
   ]
  },
  {
   "cell_type": "code",
   "execution_count": 188,
   "metadata": {
    "collapsed": true
   },
   "outputs": [],
   "source": [
    "#Now you can only add the milk at two points, the beggining and the end. \n",
    "#Assume that both refrigerators are equally cold, so the milk will be 5 deg C whenever you add it. \n",
    "\n",
    "def run_and_mix(t_add, t_total=30):\n",
    "    \"\"\"Simulates two liquids and them mixes them at t_add.\n",
    "    \n",
    "    t_add: time in minutes\n",
    "    t_total: total time to simulate, min\n",
    "    \n",
    "    returns: final temperature\n",
    "    \"\"\"\n",
    "    coffee = make_system(T_init=90, t_end=t_add, \n",
    "                         r=r_coffee, volume=300)\n",
    "    run_simulation(coffee, update)\n",
    "\n",
    "    milk = make_system(T_init=5, t_end=t_add, \n",
    "                       r=r_milk, volume=50)\n",
    "    #remove the run_simulation becaause the milk is not warming up\n",
    "    mixture = mix(coffee, milk)\n",
    "    mixture.t_end = t_total - t_add\n",
    "    run_simulation(mixture, update)\n",
    "\n",
    "    return final_temp(mixture)"
   ]
  },
  {
   "cell_type": "code",
   "execution_count": 193,
   "metadata": {},
   "outputs": [
    {
     "data": {
      "text/plain": [
       "61.428571428571438"
      ]
     },
     "execution_count": 193,
     "metadata": {},
     "output_type": "execute_result"
    }
   ],
   "source": [
    "run_and_mix(0)"
   ]
  },
  {
   "cell_type": "code",
   "execution_count": 194,
   "metadata": {},
   "outputs": [
    {
     "data": {
      "text/plain": [
       "60.714285714285715"
      ]
     },
     "execution_count": 194,
     "metadata": {},
     "output_type": "execute_result"
    }
   ],
   "source": [
    "run_and_mix(30)"
   ]
  },
  {
   "cell_type": "code",
   "execution_count": 195,
   "metadata": {
    "collapsed": true
   },
   "outputs": [],
   "source": [
    "#so better to add milk at beggining"
   ]
  },
  {
   "cell_type": "markdown",
   "metadata": {},
   "source": [
    "### Analysis"
   ]
  },
  {
   "cell_type": "markdown",
   "metadata": {},
   "source": [
    "Now we can use the analytic result to compute temperature as a function of time.  The following function is similar to `run_simulation`."
   ]
  },
  {
   "cell_type": "code",
   "execution_count": 196,
   "metadata": {
    "collapsed": true
   },
   "outputs": [],
   "source": [
    "def run_analysis(system):\n",
    "    \"\"\"Computes temperature using the analytic solution.\n",
    "    \n",
    "    Adds TimeFrame to `system` as `results`\n",
    "    \n",
    "    system: System object\n",
    "    \"\"\"\n",
    "    unpack(system)\n",
    "    \n",
    "    T_init = init.temp    \n",
    "    ts = linrange(t0, t_end, dt)\n",
    "    \n",
    "    temp_array = T_env + (T_init - T_env) * exp(-r * ts)\n",
    "    temp_series = TimeSeries(temp_array, index=ts)\n",
    "    \n",
    "    system.results = TimeFrame(temp_series, columns=['temp'])"
   ]
  },
  {
   "cell_type": "markdown",
   "metadata": {},
   "source": [
    "Here's how we run it.  From the analysis, we have the computed value of `r_coffee2`"
   ]
  },
  {
   "cell_type": "code",
   "execution_count": 197,
   "metadata": {
    "collapsed": true
   },
   "outputs": [],
   "source": [
    "r_coffee2 = 0.011610223142273859"
   ]
  },
  {
   "cell_type": "code",
   "execution_count": 198,
   "metadata": {},
   "outputs": [
    {
     "data": {
      "text/plain": [
       "70.0"
      ]
     },
     "execution_count": 198,
     "metadata": {},
     "output_type": "execute_result"
    }
   ],
   "source": [
    "init = State(temp=90)\n",
    "coffee2 = System(init=init, T_env=22, r=r_coffee2, \n",
    "                 t0=0, t_end=30)\n",
    "run_analysis(coffee2)\n",
    "final_temp(coffee2)"
   ]
  },
  {
   "cell_type": "markdown",
   "metadata": {},
   "source": [
    "And we can compare to the results from simulation."
   ]
  },
  {
   "cell_type": "code",
   "execution_count": 199,
   "metadata": {},
   "outputs": [
    {
     "data": {
      "text/plain": [
       "70.0"
      ]
     },
     "execution_count": 199,
     "metadata": {},
     "output_type": "execute_result"
    }
   ],
   "source": [
    "init = State(temp=90)\n",
    "coffee = System(init=init, T_env=22, r=r_coffee, \n",
    "                t0=0, t_end=30, dt=1)\n",
    "run_simulation(coffee, update)\n",
    "final_temp(coffee)"
   ]
  },
  {
   "cell_type": "markdown",
   "metadata": {},
   "source": [
    "They are identical except for small roundoff errors."
   ]
  },
  {
   "cell_type": "code",
   "execution_count": 200,
   "metadata": {},
   "outputs": [
    {
     "data": {
      "text/html": [
       "<div>\n",
       "<style>\n",
       "    .dataframe thead tr:only-child th {\n",
       "        text-align: right;\n",
       "    }\n",
       "\n",
       "    .dataframe thead th {\n",
       "        text-align: left;\n",
       "    }\n",
       "\n",
       "    .dataframe tbody tr th {\n",
       "        vertical-align: top;\n",
       "    }\n",
       "</style>\n",
       "<table border=\"1\" class=\"dataframe\">\n",
       "  <thead>\n",
       "    <tr style=\"text-align: right;\">\n",
       "      <th></th>\n",
       "      <th>temp</th>\n",
       "    </tr>\n",
       "  </thead>\n",
       "  <tbody>\n",
       "    <tr>\n",
       "      <th>0</th>\n",
       "      <td>0.000000e+00</td>\n",
       "    </tr>\n",
       "    <tr>\n",
       "      <th>1</th>\n",
       "      <td>0.000000e+00</td>\n",
       "    </tr>\n",
       "    <tr>\n",
       "      <th>2</th>\n",
       "      <td>0.000000e+00</td>\n",
       "    </tr>\n",
       "    <tr>\n",
       "      <th>3</th>\n",
       "      <td>0.000000e+00</td>\n",
       "    </tr>\n",
       "    <tr>\n",
       "      <th>4</th>\n",
       "      <td>0.000000e+00</td>\n",
       "    </tr>\n",
       "    <tr>\n",
       "      <th>5</th>\n",
       "      <td>0.000000e+00</td>\n",
       "    </tr>\n",
       "    <tr>\n",
       "      <th>6</th>\n",
       "      <td>0.000000e+00</td>\n",
       "    </tr>\n",
       "    <tr>\n",
       "      <th>7</th>\n",
       "      <td>0.000000e+00</td>\n",
       "    </tr>\n",
       "    <tr>\n",
       "      <th>8</th>\n",
       "      <td>0.000000e+00</td>\n",
       "    </tr>\n",
       "    <tr>\n",
       "      <th>9</th>\n",
       "      <td>0.000000e+00</td>\n",
       "    </tr>\n",
       "    <tr>\n",
       "      <th>10</th>\n",
       "      <td>0.000000e+00</td>\n",
       "    </tr>\n",
       "    <tr>\n",
       "      <th>11</th>\n",
       "      <td>0.000000e+00</td>\n",
       "    </tr>\n",
       "    <tr>\n",
       "      <th>12</th>\n",
       "      <td>0.000000e+00</td>\n",
       "    </tr>\n",
       "    <tr>\n",
       "      <th>13</th>\n",
       "      <td>-1.421085e-14</td>\n",
       "    </tr>\n",
       "    <tr>\n",
       "      <th>14</th>\n",
       "      <td>-1.421085e-14</td>\n",
       "    </tr>\n",
       "    <tr>\n",
       "      <th>15</th>\n",
       "      <td>0.000000e+00</td>\n",
       "    </tr>\n",
       "    <tr>\n",
       "      <th>16</th>\n",
       "      <td>-1.421085e-14</td>\n",
       "    </tr>\n",
       "    <tr>\n",
       "      <th>17</th>\n",
       "      <td>-1.421085e-14</td>\n",
       "    </tr>\n",
       "    <tr>\n",
       "      <th>18</th>\n",
       "      <td>-1.421085e-14</td>\n",
       "    </tr>\n",
       "    <tr>\n",
       "      <th>19</th>\n",
       "      <td>0.000000e+00</td>\n",
       "    </tr>\n",
       "    <tr>\n",
       "      <th>20</th>\n",
       "      <td>-1.421085e-14</td>\n",
       "    </tr>\n",
       "    <tr>\n",
       "      <th>21</th>\n",
       "      <td>0.000000e+00</td>\n",
       "    </tr>\n",
       "    <tr>\n",
       "      <th>22</th>\n",
       "      <td>0.000000e+00</td>\n",
       "    </tr>\n",
       "    <tr>\n",
       "      <th>23</th>\n",
       "      <td>0.000000e+00</td>\n",
       "    </tr>\n",
       "    <tr>\n",
       "      <th>24</th>\n",
       "      <td>0.000000e+00</td>\n",
       "    </tr>\n",
       "    <tr>\n",
       "      <th>25</th>\n",
       "      <td>0.000000e+00</td>\n",
       "    </tr>\n",
       "    <tr>\n",
       "      <th>26</th>\n",
       "      <td>-1.421085e-14</td>\n",
       "    </tr>\n",
       "    <tr>\n",
       "      <th>27</th>\n",
       "      <td>0.000000e+00</td>\n",
       "    </tr>\n",
       "    <tr>\n",
       "      <th>28</th>\n",
       "      <td>-1.421085e-14</td>\n",
       "    </tr>\n",
       "    <tr>\n",
       "      <th>29</th>\n",
       "      <td>0.000000e+00</td>\n",
       "    </tr>\n",
       "    <tr>\n",
       "      <th>30</th>\n",
       "      <td>0.000000e+00</td>\n",
       "    </tr>\n",
       "  </tbody>\n",
       "</table>\n",
       "</div>"
      ],
      "text/plain": [
       "            temp\n",
       "0   0.000000e+00\n",
       "1   0.000000e+00\n",
       "2   0.000000e+00\n",
       "3   0.000000e+00\n",
       "4   0.000000e+00\n",
       "5   0.000000e+00\n",
       "6   0.000000e+00\n",
       "7   0.000000e+00\n",
       "8   0.000000e+00\n",
       "9   0.000000e+00\n",
       "10  0.000000e+00\n",
       "11  0.000000e+00\n",
       "12  0.000000e+00\n",
       "13 -1.421085e-14\n",
       "14 -1.421085e-14\n",
       "15  0.000000e+00\n",
       "16 -1.421085e-14\n",
       "17 -1.421085e-14\n",
       "18 -1.421085e-14\n",
       "19  0.000000e+00\n",
       "20 -1.421085e-14\n",
       "21  0.000000e+00\n",
       "22  0.000000e+00\n",
       "23  0.000000e+00\n",
       "24  0.000000e+00\n",
       "25  0.000000e+00\n",
       "26 -1.421085e-14\n",
       "27  0.000000e+00\n",
       "28 -1.421085e-14\n",
       "29  0.000000e+00\n",
       "30  0.000000e+00"
      ]
     },
     "execution_count": 200,
     "metadata": {},
     "output_type": "execute_result"
    }
   ],
   "source": [
    "coffee.results - coffee2.results"
   ]
  },
  {
   "cell_type": "code",
   "execution_count": null,
   "metadata": {
    "collapsed": true
   },
   "outputs": [],
   "source": []
  }
 ],
 "metadata": {
  "kernelspec": {
   "display_name": "Python 3",
   "language": "python",
   "name": "python3"
  },
  "language_info": {
   "codemirror_mode": {
    "name": "ipython",
    "version": 3
   },
   "file_extension": ".py",
   "mimetype": "text/x-python",
   "name": "python",
   "nbconvert_exporter": "python",
   "pygments_lexer": "ipython3",
   "version": "3.6.1"
  }
 },
 "nbformat": 4,
 "nbformat_minor": 1
}
