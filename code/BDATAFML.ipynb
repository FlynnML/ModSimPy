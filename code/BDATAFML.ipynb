{
 "cells": [
  {
   "cell_type": "code",
   "execution_count": 25,
   "metadata": {
    "collapsed": true
   },
   "outputs": [],
   "source": [
    "%matplotlib inline\n",
    "from modsim import *\n",
    "import pandas as pd"
   ]
  },
  {
   "cell_type": "code",
   "execution_count": 26,
   "metadata": {},
   "outputs": [
    {
     "data": {
      "text/plain": [
       "pandas.core.frame.DataFrame"
      ]
     },
     "execution_count": 26,
     "metadata": {},
     "output_type": "execute_result"
    }
   ],
   "source": [
    "from pandas import read_csv\n",
    "\n",
    "import csv\n",
    "results = TimeSeries()\n",
    "filename_csv = \"data/book1.csv\"\n",
    "tables = read_csv(filename_csv, header=0, index_col=0, decimal='.')\n",
    "tables = tables.dropna()\n",
    "\n",
    "type(tables)"
   ]
  },
  {
   "cell_type": "code",
   "execution_count": 27,
   "metadata": {},
   "outputs": [
    {
     "data": {
      "text/plain": [
       "pandas.core.series.Series"
      ]
     },
     "execution_count": 27,
     "metadata": {},
     "output_type": "execute_result"
    }
   ],
   "source": [
    "tables.columns = ['colonies']\n",
    "num_col = tables.colonies\n",
    "num_col[1974]\n",
    "type(num_col)"
   ]
  },
  {
   "cell_type": "code",
   "execution_count": 30,
   "metadata": {},
   "outputs": [
    {
     "data": {
      "text/plain": [
       "-36.046511627906973"
      ]
     },
     "execution_count": 30,
     "metadata": {},
     "output_type": "execute_result"
    },
    {
     "data": {
      "image/png": "[encoded data removed]",
      "text/plain": [
       "<matplotlib.figure.Figure at 0x230e6b10550>"
      ]
     },
     "metadata": {},
     "output_type": "display_data"
    }
   ],
   "source": [
    "def plot_estimates(table):\n",
    "   \n",
    "    plot(table, ':', color='darkblue', label='colonies')\n",
    "    \n",
    "    decorate(xlabel='Year',\n",
    "             ylabel='Number of Colonies (thousands)')\n",
    "\n",
    "\n",
    "newfig()\n",
    "plot_estimates(tables)\n",
    "\n",
    "\n",
    "t0 = tables.index[0]\n",
    "t_end = tables.index[-1]\n",
    "p0 = num_col[t0]\n",
    "p_end = num_col[t_end]\n",
    "type(t0)\n",
    "t0, t_end\n",
    "\n",
    "total_growth = p_end - p0\n",
    "elapsed_time = t_end - t0\n",
    "annual_growth = total_growth / elapsed_time\n",
    "annual_growth"
   ]
  },
  {
   "cell_type": "code",
   "execution_count": 48,
   "metadata": {},
   "outputs": [
    {
     "data": {
      "text/plain": [
       "year\n",
       "1974    4387.28310\n",
       "1975    4382.94642\n",
       "1976    4468.65510\n",
       "1977    4534.92062\n",
       "1978    4247.58642\n",
       "1979    4327.68180\n",
       "1980    4311.43740\n",
       "1981    4390.53582\n",
       "1987    3307.75230\n",
       "1989    3291.79290\n",
       "1990    3322.65180\n",
       "1991    3561.57692\n",
       "1992    3313.07310\n",
       "1993    3282.21942\n",
       "1994    3121.83930\n",
       "1995    2958.74252\n",
       "1996    2846.75670\n",
       "1997    2718.14552\n",
       "1998    2629.76660\n",
       "1999    2700.24792\n",
       "2000    2702.35322\n",
       "2001    2760.28032\n",
       "2002    2688.67020\n",
       "2003    2587.73100\n",
       "2004    2640.28050\n",
       "2005    2666.57400\n",
       "2006    2621.35692\n",
       "2007    2471.24982\n",
       "2008    2450.28842\n",
       "2009    2502.70692\n",
       "2010    2396.87306\n",
       "2011    2560.42502\n",
       "2012    2764.49556\n",
       "2013    2553.07572\n",
       "2014    2603.49060\n",
       "2015    2709.72240\n",
       "2016    2815.10340\n",
       "2017    2730.78260\n",
       "Name: colonies, dtype: float64"
      ]
     },
     "execution_count": 48,
     "metadata": {},
     "output_type": "execute_result"
    }
   ],
   "source": [
    "def update_func2(num_col, year, system):\n",
    "    \"\"\"Compute the population next year.\n",
    "    \n",
    "    pop: current population\n",
    "    t: current year\n",
    "    system: system object containing parameters of the model\n",
    "    \n",
    "    returns: population next year\n",
    "    \"\"\"\n",
    "    pop = num_col\n",
    "    net_growth = system.alpha * pop + system.beta * pop**2\n",
    "    return pop + net_growth\n",
    "\n",
    "results = System(alpha=.00001, beta=.00001)\n",
    "update_func2(num_col, tables.index, results)"
   ]
  },
  {
   "cell_type": "code",
   "execution_count": 49,
   "metadata": {},
   "outputs": [],
   "source": [
    "bees = System(t0 = tables.index[0], #start\n",
    "t_end = tables.index[-1], #stop\n",
    "p0 = num_col[first_year], #initial population\n",
    "p_end = num_col[last_year], #final population\n",
    "t = tables.index,\n",
    "alpha=.00001, beta=.00001)"
   ]
  },
  {
   "cell_type": "code",
   "execution_count": 77,
   "metadata": {},
   "outputs": [
    {
     "name": "stderr",
     "output_type": "stream",
     "text": [
      "C:\\ProgramData\\Miniconda3\\lib\\site-packages\\ipykernel_launcher.py:11: RuntimeWarning: overflow encountered in double_scalars\n",
      "  # This is added back by InteractiveShellApp.init_path()\n"
     ]
    },
    {
     "data": {
      "image/png": "[encoded data removed]",
      "text/plain": [
       "<matplotlib.figure.Figure at 0x230e9dfbc50>"
      ]
     },
     "metadata": {},
     "output_type": "display_data"
    }
   ],
   "source": [
    "#quadratic\n",
    "def update_func2(pop, t, system):\n",
    "    \"\"\"Compute the population next year.\n",
    "   \n",
    "    pop: current population\n",
    "    t: current year\n",
    "    system: system object containing parameters of the model\n",
    "   \n",
    "    returns: population next year\n",
    "    \"\"\"\n",
    "    net_growth = system.alpha * pop + system.beta * pop**2\n",
    "    return pop + net_growth\n",
    " \n",
    "def run_simulation(system, update_func):\n",
    "    \"\"\"Simulate the system using any update function.\n",
    "   \n",
    "    Adds TimeSeries to `system` as `results`.\n",
    " \n",
    "    system: System object\n",
    "    update_func: function that computes the population next year\n",
    "    \"\"\"\n",
    "    results = TimeSeries()\n",
    "    results[system.t0] = system.p0\n",
    "    for t in linrange(system.t0, system.t_end):\n",
    "        results[t+1] = update_func(results[t], t, system)\n",
    "    system.results = results\n",
    "    \n",
    " \n",
    "def plot_results(system, title=None):\n",
    "    \"\"\"Plot the estimates and the model.\n",
    "   \n",
    "    system: System object with `results`\n",
    "    \"\"\"\n",
    "    newfig()\n",
    "    plot_estimates(tables)\n",
    "    plot(system.results, '--', color='gray', label='model')\n",
    "    decorate(xlabel='Year',\n",
    "             ylabel='Bee population (thousands)',\n",
    "             title=title)\n",
    "    \n",
    "bees.alpha = 0.00001\n",
    "bees.beta = 0.00001\n",
    "run_simulation(bees, update_func2)\n",
    "plot_results(bees)"
   ]
  },
  {
   "cell_type": "code",
   "execution_count": null,
   "metadata": {
    "collapsed": true
   },
   "outputs": [],
   "source": []
  },
  {
   "cell_type": "code",
   "execution_count": null,
   "metadata": {
    "collapsed": true
   },
   "outputs": [],
   "source": []
  }
 ],
 "metadata": {
  "kernelspec": {
   "display_name": "Python 3",
   "language": "python",
   "name": "python3"
  },
  "language_info": {
   "codemirror_mode": {
    "name": "ipython",
    "version": 3
   },
   "file_extension": ".py",
   "mimetype": "text/x-python",
   "name": "python",
   "nbconvert_exporter": "python",
   "pygments_lexer": "ipython3",
   "version": "3.6.1"
  }
 },
 "nbformat": 4,
 "nbformat_minor": 2
}
